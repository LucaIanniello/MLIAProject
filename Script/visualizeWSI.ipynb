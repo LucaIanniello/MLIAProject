{
  "cells": [
    {
      "cell_type": "code",
      "execution_count": 1,
      "metadata": {
        "colab": {
          "base_uri": "https://localhost:8080/"
        },
        "id": "-YPe4Y5zuW-Y",
        "outputId": "cb3856c1-560d-4a0e-d3ee-cfd25382d200"
      },
      "outputs": [
        {
          "name": "stderr",
          "output_type": "stream",
          "text": [
            "WARNING:root:pydrive is deprecated and no longer maintained. We recommend that you migrate your projects to pydrive2, the maintained fork of pydrive\n"
          ]
        }
      ],
      "source": [
        "from pydrive.auth import GoogleAuth\n",
        "from pydrive.drive import GoogleDrive\n",
        "from oauth2client.client import GoogleCredentials\n",
        "import os\n",
        "import matplotlib.pyplot as plt"
      ]
    },
    {
      "cell_type": "code",
      "execution_count": 2,
      "metadata": {
        "colab": {
          "base_uri": "https://localhost:8080/"
        },
        "id": "IUJIMEMCvT8K",
        "outputId": "badf98f7-06dd-43c4-adbf-63088584931b"
      },
      "outputs": [
        {
          "name": "stderr",
          "output_type": "stream",
          "text": [
            "WARNING:google.auth._default:No project ID could be determined. Consider running `gcloud config set project` or setting the GOOGLE_CLOUD_PROJECT environment variable\n"
          ]
        }
      ],
      "source": [
        "from google.colab import auth\n",
        "auth.authenticate_user()"
      ]
    },
    {
      "cell_type": "code",
      "execution_count": null,
      "metadata": {
        "colab": {
          "base_uri": "https://localhost:8080/"
        },
        "id": "QiLB2iXsqYZf",
        "outputId": "6b61e36e-9205-49e2-c7d6-2c45fab7b4eb"
      },
      "outputs": [
        {
          "name": "stdout",
          "output_type": "stream",
          "text": [
            "Scarico M-101.ndpi in /content/ndpi_files/S …\n"
          ]
        }
      ],
      "source": [
        "# Autenticazione “di servizio” fornita da Colab\n",
        "gauth = GoogleAuth()\n",
        "gauth.credentials = GoogleCredentials.get_application_default()\n",
        "drive = GoogleDrive(gauth)\n",
        "\n",
        "folder_id = '1gtE_lNw4MYiarzIu4qVAo-uu6aSzxS1d'\n",
        "os.makedirs('/content/ndpi_files', exist_ok=True)\n",
        "\n",
        "# Elenca e scarica tutti i file nella cartella\n",
        "file_list = drive.ListFile(\n",
        "    {'q': f\"'{folder_id}' in parents and trashed=false\"}\n",
        ").GetList()\n",
        "\n",
        "# 1) Definisci gli array\n",
        "B = [\n",
        "    \"M-1.ndpi\",\n",
        "    '''\n",
        "    \"M-104.ndpi\",\"M-105.ndpi\",\"M-108.ndpi\",\n",
        "    \"M-112.ndpi\",\"M-121.ndpi\",\"M-24.ndpi\",\"M-30.ndpi\",\n",
        "    \"M-32.ndpi\",\"M-36.ndpi\"\n",
        "    '''\n",
        "]\n",
        "E = [\n",
        "    \"M-10.ndpi\",\n",
        "    '''\n",
        "    \"M-100.ndpi\",\"M-102.ndpi\",\"M-103.ndpi\",\n",
        "    \"M-107.ndpi\",\"M-109.ndpi\",\"M-11.ndpi\",\"M-110.ndpi\",\n",
        "    \"M-111.ndpi\",\"M-113.ndpi\"\n",
        "    '''\n",
        "]\n",
        "S = [\n",
        "    \"M-101.ndpi\",\n",
        "    '''\n",
        "    \"M-114.ndpi\",\"M-65.ndpi\",\"M-86.ndpi\",\"M-87.ndpi\"\n",
        "    '''\n",
        "]\n",
        "\n",
        "base_dir = '/content/ndpi_files'\n",
        "for sub in ('B','E','S'):\n",
        "    os.makedirs(os.path.join(base_dir, sub), exist_ok=True)\n",
        "\n",
        "for f in file_list:\n",
        "    title = f['title']\n",
        "    if title in B:\n",
        "        dest = os.path.join(base_dir, 'B', title)\n",
        "    elif title in E:\n",
        "        dest = os.path.join(base_dir, 'E', title)\n",
        "    elif title in S:\n",
        "        dest = os.path.join(base_dir, 'S', title)\n",
        "    else:\n",
        "        continue\n",
        "\n",
        "    print(f\"Scarico {title} in {os.path.dirname(dest)} …\")\n",
        "    f.GetContentFile(dest)"
      ]
    },
    {
      "cell_type": "code",
      "execution_count": null,
      "metadata": {
        "id": "cSur0bjWrJlR"
      },
      "outputs": [],
      "source": [
        "!pip install openslide-python openslide-bin\n",
        "import openslide\n",
        "\n",
        "import glob\n",
        "\n",
        "ndpi_path_b = glob.glob('/content/ndpi_files/B/*.ndpi')[0]\n",
        "slide_b = openslide.OpenSlide(ndpi_path_b)\n",
        "ndpi_path_e = glob.glob('/content/ndpi_files/E/*.ndpi')[0]\n",
        "slide_e = openslide.OpenSlide(ndpi_path_e)\n",
        "ndpi_path_s = glob.glob('/content/ndpi_files/S/*.ndpi')[0]\n",
        "slide_s = openslide.OpenSlide(ndpi_path_s)\n",
        "\n",
        "print(\"Dimensione B livello 0:\", slide_b.level_dimensions[0])\n",
        "print(\"Dimensione E livello 0:\", slide_e.level_dimensions[0])\n",
        "print(\"Dimensione S livello 0:\", slide_s.level_dimensions[0])\n",
        "\n"
      ]
    },
    {
      "cell_type": "code",
      "execution_count": null,
      "metadata": {
        "id": "IT4pdsRnrrPY"
      },
      "outputs": [],
      "source": [
        "# Crea una miniatura con lato massimo 1024px\n",
        "thumb = slide_b.get_thumbnail((1024, 1024))\n",
        "plt.figure(figsize=(6,6))\n",
        "plt.imshow(thumb)\n",
        "plt.axis('off')\n",
        "plt.title('Thumbnail livello 0 → ridotta a 1024×1024')\n",
        "plt.show()\n"
      ]
    },
    {
      "cell_type": "code",
      "execution_count": null,
      "metadata": {
        "id": "QMt36-rNujjj"
      },
      "outputs": [],
      "source": [
        "# Crea una miniatura con lato massimo 1024px\n",
        "thumb = slide_e.get_thumbnail((1024, 1024))\n",
        "plt.figure(figsize=(6,6))\n",
        "plt.imshow(thumb)\n",
        "plt.axis('off')\n",
        "plt.title('Thumbnail livello 0 → ridotta a 1024×1024')\n",
        "plt.show()\n"
      ]
    },
    {
      "cell_type": "code",
      "execution_count": null,
      "metadata": {
        "id": "biBtrZnDukBJ"
      },
      "outputs": [],
      "source": [
        "\n",
        "# Crea una miniatura con lato massimo 1024px\n",
        "thumb = slide_s.get_thumbnail((1024, 1024))\n",
        "plt.figure(figsize=(6,6))\n",
        "plt.imshow(thumb)\n",
        "plt.axis('off')\n",
        "plt.title('Thumbnail livello 0 → ridotta a 1024×1024')\n",
        "plt.show()\n"
      ]
    },
    {
      "cell_type": "code",
      "execution_count": null,
      "metadata": {
        "id": "POlRd5qfrs1v"
      },
      "outputs": [],
      "source": [
        "# Lettura di una regione a livello 0 (intera risoluzione)\n",
        "# Coordinate (x, y) in pixel su livello 0, dimensione patch 512×512\n",
        "region = slide_b.read_region((20000, 15000), level=0, size=(512, 512))\n",
        "region = region.convert('RGB')  # rimuove canale alfa\n",
        "\n",
        "plt.figure(figsize=(5,5))\n",
        "plt.imshow(region)\n",
        "plt.axis('off')\n",
        "plt.title('Patch 512×512 da (10000,15000) a livello 0')\n",
        "plt.show()\n"
      ]
    },
    {
      "cell_type": "code",
      "execution_count": null,
      "metadata": {
        "id": "_35RasG3uog_"
      },
      "outputs": [],
      "source": [
        "# Lettura di una regione a livello 0 (intera risoluzione)\n",
        "# Coordinate (x, y) in pixel su livello 0, dimensione patch 512×512\n",
        "region = slide_e.read_region((10000, 15000), level=0, size=(512, 512))\n",
        "region = region.convert('RGB')  # rimuove canale alfa\n",
        "\n",
        "plt.figure(figsize=(5,5))\n",
        "plt.imshow(region)\n",
        "plt.axis('off')\n",
        "plt.title('Patch 512×512 da (10000,15000) a livello 0')\n",
        "plt.show()\n"
      ]
    },
    {
      "cell_type": "code",
      "execution_count": null,
      "metadata": {
        "id": "J-nqJEoWuphR"
      },
      "outputs": [],
      "source": [
        "# Lettura di una regione a livello 0 (intera risoluzione)\n",
        "# Coordinate (x, y) in pixel su livello 0, dimensione patch 512×512\n",
        "region = slide_s.read_region((20000, 15000), level=0, size=(512, 512))\n",
        "region = region.convert('RGB')  # rimuove canale alfa\n",
        "\n",
        "plt.figure(figsize=(5,5))\n",
        "plt.imshow(region)\n",
        "plt.axis('off')\n",
        "plt.title('Patch 512×512 da (10000,15000) a livello 0')\n",
        "plt.show()\n"
      ]
    },
    {
      "cell_type": "code",
      "execution_count": null,
      "metadata": {
        "id": "FX2Jy8nB7jND"
      },
      "outputs": [],
      "source": [
        "!git clone https://github.com/LucaIanniello/MLIAProject.git"
      ]
    },
    {
      "cell_type": "code",
      "execution_count": null,
      "metadata": {
        "id": "DEFpfboUHErQ"
      },
      "outputs": [],
      "source": [
        "!pip install -q condacolab\n",
        "import condacolab\n",
        "condacolab.install()\n",
        "\n",
        "!conda env create -f MLIAProject/CLAM/env.yml\n",
        "!conda install -n clam_latest -c conda-forge openslide\n",
        "!conda install -n clam_latest -c conda-forge openslide-tools libopenslide0 libtiff-dev libjpeg-dev\n",
        "!conda run -n clam_latest python --version\n",
        "!conda run -n clam_latest pip list\n",
        "\n",
        "!apt-get update\n",
        "!apt-get install -y openslide-tools libopenslide0 libtiff-dev libjpeg-dev"
      ]
    },
    {
      "cell_type": "code",
      "execution_count": null,
      "metadata": {
        "id": "D2LJ0aeS93l5"
      },
      "outputs": [],
      "source": [
        "# !pip install -r /content/MLIAProject/CLAM/requirements.txt"
      ]
    },
    {
      "cell_type": "code",
      "execution_count": null,
      "metadata": {
        "id": "YiIrRv9uJY2k"
      },
      "outputs": [],
      "source": [
        "\n",
        "!conda --version\n",
        "!which conda\n",
        "!conda config --show-sources\n",
        "!conda env update -n base -f MLIAProject/CLAM/env.yml\n"
      ]
    },
    {
      "cell_type": "code",
      "execution_count": null,
      "metadata": {
        "id": "dXmgMBr-KuMB"
      },
      "outputs": [],
      "source": [
        "!conda run -n clam_latest python presets_generator.py"
      ]
    },
    {
      "cell_type": "code",
      "execution_count": null,
      "metadata": {
        "id": "F6wrgIDXDFTe"
      },
      "outputs": [],
      "source": [
        "!MPLBACKEND=Agg conda run -n clam_latest python MLIAProject/CLAM/create_patches_fp.py \\\n",
        "    --source ndpi_files/B/ \\\n",
        "    --save_dir results/RESULTS_DIRECTORY \\\n",
        "    --patch_size 256 \\\n",
        "    --seg \\\n",
        "    --patch \\\n",
        "    --stitch \\\n",
        "    --preset \"/content/MLIAProject/CLAM/presets/test_0.csv\"\n"
      ]
    },
    {
      "cell_type": "code",
      "execution_count": null,
      "metadata": {},
      "outputs": [],
      "source": [
        "!cp -r MLIAProject/presets ."
      ]
    },
    {
      "cell_type": "code",
      "execution_count": null,
      "metadata": {},
      "outputs": [],
      "source": [
        "!MPLBACKEND=Agg conda run -n clam_latest python MLIAProject/CLAM/create_patches_fp.py \\\n",
        "    --source ndpi_files/B/ \\\n",
        "    --save_dir results/RESULTS_DIRECTORY_otsu \\\n",
        "    --patch_size 256 \\\n",
        "    --seg \\\n",
        "    --patch \\\n",
        "    --stitch \\\n",
        "    --preset process_list_edited_use_otsu.csv"
      ]
    },
    {
      "cell_type": "code",
      "execution_count": null,
      "metadata": {},
      "outputs": [],
      "source": [
        "!MPLBACKEND=Agg conda run -n clam_latest python MLIAProject/CLAM/create_patches_fp.py \\\n",
        "    --source ndpi_files/B/ \\\n",
        "    --save_dir results/RESULTS_DIRECTORY_11 \\\n",
        "    --patch_size 256 \\\n",
        "    --seg \\\n",
        "    --patch \\\n",
        "    --stitch \\\n",
        "    --preset process_list_edited_th11.csv\n",
        "\n"
      ]
    },
    {
      "cell_type": "code",
      "execution_count": null,
      "metadata": {},
      "outputs": [],
      "source": [
        "!MPLBACKEND=Agg conda run -n clam_latest python MLIAProject/CLAM/create_patches_fp.py \\\n",
        "    --source ndpi_files/B/ \\\n",
        "    --save_dir results/RESULTS_DIRECTORY_12 \\\n",
        "    --patch_size 256 \\\n",
        "    --seg \\\n",
        "    --patch \\\n",
        "    --stitch \\\n",
        "    --preset process_list_edited_th12.csv\n",
        "\n"
      ]
    },
    {
      "cell_type": "code",
      "execution_count": null,
      "metadata": {},
      "outputs": [],
      "source": [
        "!MPLBACKEND=Agg conda run -n clam_latest python MLIAProject/CLAM/create_patches_fp.py \\\n",
        "    --source ndpi_files/B/ \\\n",
        "    --save_dir results/RESULTS_DIRECTORY_13 \\\n",
        "    --patch_size 256 \\\n",
        "    --seg \\\n",
        "    --patch \\\n",
        "    --stitch \\\n",
        "    --preset process_list_edited_th13.csv"
      ]
    },
    {
      "cell_type": "code",
      "execution_count": null,
      "metadata": {},
      "outputs": [],
      "source": [
        "!MPLBACKEND=Agg conda run -n clam_latest python -u MLIAProject/CLAM/extract_features_fp.py \\\n",
        "    --data_h5_dir \"/content/results/RESULTS_DIRECTORY/\" \\\n",
        "    --data_slide_dir \"/content/ndpi_files/B/\" \\\n",
        "    --csv_path \"/content/results/RESULTS_DIRECTORY/process_list_autogen.csv\" \\\n",
        "    --feat_dir results_features/FEATURES_DIRECTORY \\\n",
        "    --batch_size 512 \\\n",
        "    --slide_ext .ndpi"
      ]
    },
    {
      "cell_type": "code",
      "execution_count": null,
      "metadata": {},
      "outputs": [],
      "source": [
        "!MPLBACKEND=Agg conda run -n clam_latest python -u MLIAProject/CLAM/extract_features_fp.py \\\n",
        "    --data_h5_dir \"/content/results/RESULTS_DIRECTORY_otsu/\" \\\n",
        "    --data_slide_dir \"/content/ndpi_files/B/\" \\\n",
        "    --csv_path \"/content/results/RESULTS_DIRECTORY_otsu/process_list_autogen.csv\" \\\n",
        "    --feat_dir results_features/FEATURES_DIRECTORY_otsu \\\n",
        "    --batch_size 512 \\\n",
        "    --slide_ext .ndpi"
      ]
    },
    {
      "cell_type": "code",
      "execution_count": null,
      "metadata": {},
      "outputs": [],
      "source": [
        "!MPLBACKEND=Agg conda run -n clam_latest python -u MLIAProject/CLAM/extract_features_fp.py \\\n",
        "    --data_h5_dir \"/content/results/RESULTS_DIRECTORY_11/\" \\\n",
        "    --data_slide_dir \"/content/ndpi_files/B/\" \\\n",
        "    --csv_path \"/content/results/RESULTS_DIRECTORY_11/process_list_autogen.csv\" \\\n",
        "    --feat_dir results_features/FEATURES_DIRECTORY_11 \\\n",
        "    --batch_size 512 \\\n",
        "    --slide_ext .ndpi"
      ]
    },
    {
      "cell_type": "code",
      "execution_count": null,
      "metadata": {},
      "outputs": [],
      "source": [
        "!MPLBACKEND=Agg conda run -n clam_latest python -u MLIAProject/CLAM/extract_features_fp.py \\\n",
        "    --data_h5_dir \"/content/results/RESULTS_DIRECTORY_12/\" \\\n",
        "    --data_slide_dir \"/content/ndpi_files/B/\" \\\n",
        "    --csv_path \"/content/results/RESULTS_DIRECTORY_12/process_list_autogen.csv\" \\\n",
        "    --feat_dir results_features/FEATURES_DIRECTORY_12 \\\n",
        "    --batch_size 512 \\\n",
        "    --slide_ext .ndpi"
      ]
    },
    {
      "cell_type": "code",
      "execution_count": null,
      "metadata": {},
      "outputs": [],
      "source": [
        "!MPLBACKEND=Agg conda run -n clam_latest python -u MLIAProject/CLAM/extract_features_fp.py \\\n",
        "    --data_h5_dir \"/content/results/RESULTS_DIRECTORY_13/\" \\\n",
        "    --data_slide_dir \"/content/ndpi_files/B/\" \\\n",
        "    --csv_path \"/content/results/RESULTS_DIRECTORY_13/process_list_autogen.csv\" \\\n",
        "    --feat_dir results_features/FEATURES_DIRECTORY_13 \\\n",
        "    --batch_size 512 \\\n",
        "    --slide_ext .ndpi"
      ]
    }
  ],
  "metadata": {
    "accelerator": "GPU",
    "colab": {
      "gpuType": "T4",
      "provenance": []
    },
    "kernelspec": {
      "display_name": "Python 3",
      "name": "python3"
    },
    "language_info": {
      "name": "python",
      "version": "3.10.16"
    }
  },
  "nbformat": 4,
  "nbformat_minor": 0
}
